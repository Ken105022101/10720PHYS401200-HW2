{
 "cells": [
  {
   "cell_type": "markdown",
   "metadata": {},
   "source": [
    "# 10720PHYS401200 Homework-2"
   ]
  },
  {
   "cell_type": "markdown",
   "metadata": {},
   "source": [
    "## Monte Carlo simulation of the 2D Ising model\n",
    "\n",
    "Write a program/function to perform a Monte Carlo simulation of the 2D Ising model in zero magnetic field.\n",
    "\n",
    "$$\n",
    "  H = -J \\sum_{\\langle i,j\\rangle} \\sigma_i \\sigma_j,\n",
    "$$\n",
    "\n",
    "where $\\sigma=\\pm 1$ and the sum is over nearest-neighbor pairs of sites on a square lattice of $N = L \\times L$ sites.\n",
    "\n",
    "You should implement two different update schemes:\n",
    "* Sequential update.\n",
    "* Random update.\n",
    "\n",
    "For both schemes, we define a Monte Carlo sweep as $N=L\\times L$ local spin updates(flip attemps). At the end each Monte Carlo sweep, i.e., after $N$ local spin updates(flip attemps), you should measure the following quantities:\n",
    "* Total energy $E$ and $E^2$.\n",
    "* Total matnetization $M$, $|M|$, and $M^2$.\n",
    "\n",
    "At the end of the simulation, calculate following quantities:\n",
    "* Specific heat $C_v$\n",
    "$$\n",
    "  C_v \\equiv \\frac{\\partial \\langle E\\rangle}{\\partial T} = \\frac{1}{k_B T^2} \\left( \\langle E^2\\rangle -\\langle E\\rangle^2 \\right).\n",
    "$$\n",
    "* Susceptbility of $M$\n",
    "$$ \n",
    "  \\chi_M \\equiv \\frac{\\partial \\langle M\\rangle}{\\partial h} = \\frac{1}{k_B T} \\left( \\langle M^2\\rangle -\\langle M\\rangle^2 \\right).\n",
    "$$\n",
    "* Susceptbility of $|M|$\n",
    "$$ \n",
    "  \\chi_{|M|} \\equiv \\frac{\\partial \\langle |M|\\rangle}{\\partial h} = \\frac{1}{k_B T} \\left( \\langle M^2\\rangle -\\langle |M|\\rangle^2 \\right).\n",
    "$$"
   ]
  },
  {
   "cell_type": "markdown",
   "metadata": {},
   "source": [
    "## Problem 1: $2\\times 2$ lattice\n",
    "\n",
    "The exact results for $2\\times 2$ lattices are (cf. arXiv:0803.0217):\n",
    "$$\n",
    "  Z=2 e^{8\\beta J} + 12 + 2 e^{-8\\beta J}.\n",
    "$$\n",
    "\n",
    "$$ \n",
    "  \\langle E\\rangle = -\\frac{1}{Z} \\left[ 2(8)e^{8\\beta J} + 2(-8)e^{-8\\beta J} \\right].\n",
    "$$\n",
    "\n",
    "$$ \n",
    "  \\langle E^2\\rangle = \\frac{1}{Z} \\left[ 2(64)e^{8\\beta J} + 2(64)e^{-8\\beta J} \\right].\n",
    "$$\n",
    "\n",
    "$$ \n",
    "  \\langle |M|\\rangle = \\frac{1}{Z} \\left[ 2(4)e^{8\\beta J} + 8(2) \\right].\n",
    "$$\n",
    "\n",
    "$$ \n",
    "  \\langle M^2\\rangle = \\frac{1}{Z} \\left[ 2(16)e^{8\\beta J} + 8(4) \\right].\n",
    "$$\n",
    "\n",
    "* Plot specific heat per site $C_v/N$ vs temperature using exat result, MC (sequential update), MC (random update).\n",
    "* Plot susceptbility of $|M|$ per site $\\chi_{|M|}/N$ vs temperature using exat result, MC (sequential update), MC (random update).\n",
    "\n",
    "You should perform at least $10^3$ Monte Carlo sweeps."
   ]
  },
  {
   "cell_type": "code",
   "execution_count": 1,
   "metadata": {},
   "outputs": [],
   "source": [
    "# Problem 1"
   ]
  },
  {
   "cell_type": "markdown",
   "metadata": {},
   "source": [
    "## Problem 2: Symmetry-breaking and finite systems: Reversal time\n",
    "\n",
    "Start from \"all up\" spin configuration and perform at least $10^4$ Monte Carlo sweeps for a $L=8$ and a $L=16$ systems for temperature of $T=2.2$. Plot $M$ as function of MC sweeps."
   ]
  },
  {
   "cell_type": "code",
   "execution_count": 2,
   "metadata": {},
   "outputs": [],
   "source": [
    "# Problem 2"
   ]
  },
  {
   "cell_type": "markdown",
   "metadata": {},
   "source": [
    "## Problem 3: $8\\times 8$ lattice\n",
    "\n",
    "Perform at least $10^3$ Monte Carlo sweeps for a $L=8$ system for temperature of $T=1, 2, 3, 4, 5, 6, 7, 8$. Print $E$, $C$, $|M|$, $\\chi_{|M|}$ for each $T$."
   ]
  },
  {
   "cell_type": "code",
   "execution_count": 3,
   "metadata": {},
   "outputs": [],
   "source": [
    "# Problem 3"
   ]
  }
 ],
 "metadata": {
  "kernelspec": {
   "display_name": "Python 3",
   "language": "python",
   "name": "python3"
  },
  "language_info": {
   "codemirror_mode": {
    "name": "ipython",
    "version": 3
   },
   "file_extension": ".py",
   "mimetype": "text/x-python",
   "name": "python",
   "nbconvert_exporter": "python",
   "pygments_lexer": "ipython3",
   "version": "3.6.8"
  }
 },
 "nbformat": 4,
 "nbformat_minor": 2
}
